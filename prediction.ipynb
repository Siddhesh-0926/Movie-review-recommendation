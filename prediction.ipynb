{
 "cells": [
  {
   "cell_type": "code",
   "execution_count": 1,
   "metadata": {},
   "outputs": [],
   "source": [
    "# Step 1: Import Libraries and Load the Model\n",
    "import numpy as np\n",
    "import tensorflow as tf\n",
    "from tensorflow.keras.datasets import imdb\n",
    "from tensorflow.keras.preprocessing import sequence\n",
    "from tensorflow.keras.models import load_model"
   ]
  },
  {
   "cell_type": "code",
   "execution_count": 2,
   "metadata": {},
   "outputs": [],
   "source": [
    "\n",
    "# Load the IMDB dataset word index\n",
    "word_index = imdb.get_word_index()\n",
    "reverse_word_index = {value: key for key, value in word_index.items()}"
   ]
  },
  {
   "cell_type": "code",
   "execution_count": 3,
   "metadata": {},
   "outputs": [
    {
     "name": "stderr",
     "output_type": "stream",
     "text": [
      "WARNING:absl:Compiled the loaded model, but the compiled metrics have yet to be built. `model.compile_metrics` will be empty until you train or evaluate the model.\n"
     ]
    },
    {
     "data": {
      "text/html": [
       "<pre style=\"white-space:pre;overflow-x:auto;line-height:normal;font-family:Menlo,'DejaVu Sans Mono',consolas,'Courier New',monospace\"><span style=\"font-weight: bold\">Model: \"sequential\"</span>\n",
       "</pre>\n"
      ],
      "text/plain": [
       "\u001b[1mModel: \"sequential\"\u001b[0m\n"
      ]
     },
     "metadata": {},
     "output_type": "display_data"
    },
    {
     "data": {
      "text/html": [
       "<pre style=\"white-space:pre;overflow-x:auto;line-height:normal;font-family:Menlo,'DejaVu Sans Mono',consolas,'Courier New',monospace\">┏━━━━━━━━━━━━━━━━━━━━━━━━━━━━━━━━━┳━━━━━━━━━━━━━━━━━━━━━━━━┳━━━━━━━━━━━━━━━┓\n",
       "┃<span style=\"font-weight: bold\"> Layer (type)                    </span>┃<span style=\"font-weight: bold\"> Output Shape           </span>┃<span style=\"font-weight: bold\">       Param # </span>┃\n",
       "┡━━━━━━━━━━━━━━━━━━━━━━━━━━━━━━━━━╇━━━━━━━━━━━━━━━━━━━━━━━━╇━━━━━━━━━━━━━━━┩\n",
       "│ embedding (<span style=\"color: #0087ff; text-decoration-color: #0087ff\">Embedding</span>)           │ (<span style=\"color: #00af00; text-decoration-color: #00af00\">32</span>, <span style=\"color: #00af00; text-decoration-color: #00af00\">500</span>, <span style=\"color: #00af00; text-decoration-color: #00af00\">128</span>)         │     <span style=\"color: #00af00; text-decoration-color: #00af00\">1,280,000</span> │\n",
       "├─────────────────────────────────┼────────────────────────┼───────────────┤\n",
       "│ simple_rnn (<span style=\"color: #0087ff; text-decoration-color: #0087ff\">SimpleRNN</span>)          │ (<span style=\"color: #00af00; text-decoration-color: #00af00\">32</span>, <span style=\"color: #00af00; text-decoration-color: #00af00\">128</span>)              │        <span style=\"color: #00af00; text-decoration-color: #00af00\">32,896</span> │\n",
       "├─────────────────────────────────┼────────────────────────┼───────────────┤\n",
       "│ dense (<span style=\"color: #0087ff; text-decoration-color: #0087ff\">Dense</span>)                   │ (<span style=\"color: #00af00; text-decoration-color: #00af00\">32</span>, <span style=\"color: #00af00; text-decoration-color: #00af00\">1</span>)                │           <span style=\"color: #00af00; text-decoration-color: #00af00\">129</span> │\n",
       "└─────────────────────────────────┴────────────────────────┴───────────────┘\n",
       "</pre>\n"
      ],
      "text/plain": [
       "┏━━━━━━━━━━━━━━━━━━━━━━━━━━━━━━━━━┳━━━━━━━━━━━━━━━━━━━━━━━━┳━━━━━━━━━━━━━━━┓\n",
       "┃\u001b[1m \u001b[0m\u001b[1mLayer (type)                   \u001b[0m\u001b[1m \u001b[0m┃\u001b[1m \u001b[0m\u001b[1mOutput Shape          \u001b[0m\u001b[1m \u001b[0m┃\u001b[1m \u001b[0m\u001b[1m      Param #\u001b[0m\u001b[1m \u001b[0m┃\n",
       "┡━━━━━━━━━━━━━━━━━━━━━━━━━━━━━━━━━╇━━━━━━━━━━━━━━━━━━━━━━━━╇━━━━━━━━━━━━━━━┩\n",
       "│ embedding (\u001b[38;5;33mEmbedding\u001b[0m)           │ (\u001b[38;5;34m32\u001b[0m, \u001b[38;5;34m500\u001b[0m, \u001b[38;5;34m128\u001b[0m)         │     \u001b[38;5;34m1,280,000\u001b[0m │\n",
       "├─────────────────────────────────┼────────────────────────┼───────────────┤\n",
       "│ simple_rnn (\u001b[38;5;33mSimpleRNN\u001b[0m)          │ (\u001b[38;5;34m32\u001b[0m, \u001b[38;5;34m128\u001b[0m)              │        \u001b[38;5;34m32,896\u001b[0m │\n",
       "├─────────────────────────────────┼────────────────────────┼───────────────┤\n",
       "│ dense (\u001b[38;5;33mDense\u001b[0m)                   │ (\u001b[38;5;34m32\u001b[0m, \u001b[38;5;34m1\u001b[0m)                │           \u001b[38;5;34m129\u001b[0m │\n",
       "└─────────────────────────────────┴────────────────────────┴───────────────┘\n"
      ]
     },
     "metadata": {},
     "output_type": "display_data"
    },
    {
     "data": {
      "text/html": [
       "<pre style=\"white-space:pre;overflow-x:auto;line-height:normal;font-family:Menlo,'DejaVu Sans Mono',consolas,'Courier New',monospace\"><span style=\"font-weight: bold\"> Total params: </span><span style=\"color: #00af00; text-decoration-color: #00af00\">1,313,027</span> (5.01 MB)\n",
       "</pre>\n"
      ],
      "text/plain": [
       "\u001b[1m Total params: \u001b[0m\u001b[38;5;34m1,313,027\u001b[0m (5.01 MB)\n"
      ]
     },
     "metadata": {},
     "output_type": "display_data"
    },
    {
     "data": {
      "text/html": [
       "<pre style=\"white-space:pre;overflow-x:auto;line-height:normal;font-family:Menlo,'DejaVu Sans Mono',consolas,'Courier New',monospace\"><span style=\"font-weight: bold\"> Trainable params: </span><span style=\"color: #00af00; text-decoration-color: #00af00\">1,313,025</span> (5.01 MB)\n",
       "</pre>\n"
      ],
      "text/plain": [
       "\u001b[1m Trainable params: \u001b[0m\u001b[38;5;34m1,313,025\u001b[0m (5.01 MB)\n"
      ]
     },
     "metadata": {},
     "output_type": "display_data"
    },
    {
     "data": {
      "text/html": [
       "<pre style=\"white-space:pre;overflow-x:auto;line-height:normal;font-family:Menlo,'DejaVu Sans Mono',consolas,'Courier New',monospace\"><span style=\"font-weight: bold\"> Non-trainable params: </span><span style=\"color: #00af00; text-decoration-color: #00af00\">0</span> (0.00 B)\n",
       "</pre>\n"
      ],
      "text/plain": [
       "\u001b[1m Non-trainable params: \u001b[0m\u001b[38;5;34m0\u001b[0m (0.00 B)\n"
      ]
     },
     "metadata": {},
     "output_type": "display_data"
    },
    {
     "data": {
      "text/html": [
       "<pre style=\"white-space:pre;overflow-x:auto;line-height:normal;font-family:Menlo,'DejaVu Sans Mono',consolas,'Courier New',monospace\"><span style=\"font-weight: bold\"> Optimizer params: </span><span style=\"color: #00af00; text-decoration-color: #00af00\">2</span> (12.00 B)\n",
       "</pre>\n"
      ],
      "text/plain": [
       "\u001b[1m Optimizer params: \u001b[0m\u001b[38;5;34m2\u001b[0m (12.00 B)\n"
      ]
     },
     "metadata": {},
     "output_type": "display_data"
    }
   ],
   "source": [
    "# Load the pre-trained model with ReLU activation\n",
    "model = load_model('simple_rnn_imdb.h5')\n",
    "model.summary()"
   ]
  },
  {
   "cell_type": "code",
   "execution_count": 4,
   "metadata": {},
   "outputs": [
    {
     "data": {
      "text/plain": [
       "[array([[ 0.44732127, -0.3789207 , -0.4211506 , ..., -0.33873242,\n",
       "         -0.31738788, -1.3702219 ],\n",
       "        [ 0.03232509,  0.01729622, -0.03592222, ...,  0.03017468,\n",
       "         -0.00240816, -0.12372387],\n",
       "        [-0.01198471, -0.00865484,  0.05089463, ...,  0.05905449,\n",
       "          0.07924869, -0.08035614],\n",
       "        ...,\n",
       "        [ 0.01827467,  0.00281104,  0.03712773, ..., -0.02352373,\n",
       "         -0.01411932,  0.04485744],\n",
       "        [-0.02068201,  0.0124731 ,  0.07433603, ...,  0.01771788,\n",
       "         -0.00854707,  0.02831561],\n",
       "        [ 0.02397637, -0.10715505, -0.01742538, ..., -0.08928227,\n",
       "          0.0060923 ,  0.05955805]], dtype=float32),\n",
       " array([[-0.1561498 , -0.05877727, -0.10903671, ...,  0.17656022,\n",
       "          0.05509859,  0.14270973],\n",
       "        [ 0.01954527, -0.11084709,  0.03408367, ...,  0.04479563,\n",
       "          0.15229094, -0.11422227],\n",
       "        [-0.11833256, -0.00474959,  0.12662442, ..., -0.13537036,\n",
       "         -0.08240668,  0.05063454],\n",
       "        ...,\n",
       "        [ 0.0054775 ,  0.01788056, -0.05180741, ..., -0.07685797,\n",
       "          0.06435332,  0.01289889],\n",
       "        [ 0.11935257, -0.10721307, -0.00533613, ...,  0.14500618,\n",
       "          0.00860669,  0.13606326],\n",
       "        [-0.09025531,  0.11584528, -0.04297436, ...,  0.14057562,\n",
       "          0.06468864, -0.10407207]], dtype=float32),\n",
       " array([[-0.0413513 , -0.09725348, -0.22050609, ..., -0.10834161,\n",
       "         -0.15409614, -0.08735886],\n",
       "        [ 0.03784712, -0.04947737,  0.06552854, ..., -0.03969069,\n",
       "          0.07561421,  0.05712326],\n",
       "        [ 0.17885526, -0.2010612 , -0.18178076, ..., -0.04154953,\n",
       "          0.14340663,  0.06634253],\n",
       "        ...,\n",
       "        [ 0.0551803 , -0.04587811, -0.0186822 , ...,  0.12990461,\n",
       "         -0.02363119,  0.05131718],\n",
       "        [ 0.0059731 ,  0.10726026,  0.0311028 , ..., -0.08482514,\n",
       "         -0.01040391, -0.01617419],\n",
       "        [-0.04474257,  0.00071029,  0.01436203, ..., -0.09051315,\n",
       "         -0.05201668,  0.01303876]], dtype=float32),\n",
       " array([ 0.03661291, -0.00214422,  0.01685358, -0.01379281, -0.03917972,\n",
       "        -0.01067948,  0.00874774,  0.00427654,  0.04764582,  0.01067916,\n",
       "        -0.03692278, -0.02572823, -0.03685137,  0.00516435,  0.03824789,\n",
       "        -0.01570857, -0.02343585, -0.00762583, -0.01994669, -0.02745729,\n",
       "         0.00234862, -0.02400696,  0.01492271, -0.01628737, -0.02552369,\n",
       "         0.02162453, -0.03272542, -0.01619988, -0.01992545, -0.02949459,\n",
       "         0.00998091, -0.01354911, -0.0144333 , -0.00295358, -0.04104371,\n",
       "         0.02637405, -0.03231695, -0.01351628,  0.01988416,  0.00125145,\n",
       "         0.00210958,  0.03137005,  0.01155904, -0.00278847,  0.01762019,\n",
       "         0.01783247,  0.02974694, -0.02563268, -0.02500297, -0.00071107,\n",
       "        -0.02679351,  0.02222162, -0.00319021, -0.02863831, -0.02656046,\n",
       "         0.01149529, -0.0115986 , -0.02472264, -0.00788054,  0.01377315,\n",
       "         0.00806636, -0.01620447,  0.00875326, -0.02922879, -0.04155564,\n",
       "         0.00709915, -0.00520666,  0.00850668, -0.00933686, -0.01585643,\n",
       "        -0.03822418,  0.02105163, -0.02108444, -0.0189902 ,  0.004176  ,\n",
       "        -0.02696028,  0.02332206, -0.00365788, -0.01993992, -0.02294044,\n",
       "         0.02302164,  0.00525276,  0.06061038,  0.02024842,  0.01763604,\n",
       "        -0.0003716 ,  0.02968397, -0.01109877,  0.00179696,  0.04942794,\n",
       "         0.01681248,  0.09974875,  0.01232845,  0.00483735,  0.00692244,\n",
       "         0.01405193,  0.00968119, -0.0473716 ,  0.0228289 ,  0.01764317,\n",
       "         0.02309562,  0.01463156,  0.01720491, -0.02154323,  0.00439948,\n",
       "        -0.02170474, -0.01110284, -0.00215489, -0.00611319,  0.01291824,\n",
       "         0.01036929, -0.03718186,  0.01236301,  0.00109618,  0.03095857,\n",
       "         0.02616659, -0.0190229 ,  0.00230252, -0.0373895 ,  0.01139216,\n",
       "        -0.01743457, -0.01665731,  0.01036217, -0.02634066, -0.02404021,\n",
       "         0.03547539,  0.01621014,  0.00936307], dtype=float32),\n",
       " array([[-0.20087151],\n",
       "        [-0.13323036],\n",
       "        [ 0.062681  ],\n",
       "        [ 0.25308558],\n",
       "        [-0.17346656],\n",
       "        [-0.00483137],\n",
       "        [ 0.02446137],\n",
       "        [ 0.17365636],\n",
       "        [ 0.03564712],\n",
       "        [ 0.16564289],\n",
       "        [-0.21438427],\n",
       "        [ 0.22240417],\n",
       "        [-0.11196955],\n",
       "        [-0.13327652],\n",
       "        [ 0.23348458],\n",
       "        [-0.06820351],\n",
       "        [ 0.16844396],\n",
       "        [ 0.06624898],\n",
       "        [-0.17282829],\n",
       "        [ 0.07872418],\n",
       "        [-0.05650006],\n",
       "        [ 0.20879829],\n",
       "        [-0.02777386],\n",
       "        [ 0.20116775],\n",
       "        [ 0.33946666],\n",
       "        [-0.03999348],\n",
       "        [-0.10815323],\n",
       "        [ 0.00189719],\n",
       "        [ 0.05300656],\n",
       "        [ 0.09698152],\n",
       "        [-0.12683858],\n",
       "        [-0.05585441],\n",
       "        [ 0.00427284],\n",
       "        [ 0.27370498],\n",
       "        [ 0.00847614],\n",
       "        [ 0.03751698],\n",
       "        [-0.02824642],\n",
       "        [ 0.23127794],\n",
       "        [-0.18740155],\n",
       "        [-0.04795945],\n",
       "        [-0.09368255],\n",
       "        [-0.4142817 ],\n",
       "        [ 0.00210781],\n",
       "        [ 0.04613061],\n",
       "        [-0.15019038],\n",
       "        [-0.09901329],\n",
       "        [-0.14110884],\n",
       "        [-0.0134316 ],\n",
       "        [ 0.11456446],\n",
       "        [-0.05346531],\n",
       "        [ 0.15579025],\n",
       "        [-0.26956782],\n",
       "        [ 0.174484  ],\n",
       "        [-0.37000847],\n",
       "        [ 0.04465147],\n",
       "        [ 0.07176332],\n",
       "        [-0.05145085],\n",
       "        [-0.1372478 ],\n",
       "        [ 0.20606205],\n",
       "        [ 0.1364835 ],\n",
       "        [ 0.08135066],\n",
       "        [ 0.26592177],\n",
       "        [-0.39230448],\n",
       "        [-0.1057065 ],\n",
       "        [-0.02131268],\n",
       "        [ 0.22319171],\n",
       "        [ 0.11346196],\n",
       "        [ 0.18353128],\n",
       "        [ 0.03714493],\n",
       "        [ 0.01839039],\n",
       "        [-0.20918614],\n",
       "        [ 0.0165541 ],\n",
       "        [ 0.06425299],\n",
       "        [-0.03191422],\n",
       "        [-0.01528255],\n",
       "        [ 0.18900472],\n",
       "        [-0.16110498],\n",
       "        [-0.17495097],\n",
       "        [ 0.01300822],\n",
       "        [-0.2150479 ],\n",
       "        [-0.07278537],\n",
       "        [ 0.05327202],\n",
       "        [ 0.29441553],\n",
       "        [-0.07297613],\n",
       "        [-0.06913385],\n",
       "        [-0.0073788 ],\n",
       "        [-0.3247541 ],\n",
       "        [-0.08307973],\n",
       "        [-0.23793407],\n",
       "        [ 0.17707933],\n",
       "        [ 0.12640427],\n",
       "        [ 0.19958164],\n",
       "        [-0.20033497],\n",
       "        [ 0.00506615],\n",
       "        [-0.15646316],\n",
       "        [-0.0287943 ],\n",
       "        [ 0.17312402],\n",
       "        [ 0.02400771],\n",
       "        [ 0.02406034],\n",
       "        [-0.12042553],\n",
       "        [-0.12671295],\n",
       "        [-0.23327681],\n",
       "        [-0.22763743],\n",
       "        [ 0.18124743],\n",
       "        [ 0.18391398],\n",
       "        [-0.01537905],\n",
       "        [ 0.04103775],\n",
       "        [ 0.07783806],\n",
       "        [ 0.41079438],\n",
       "        [ 0.1963069 ],\n",
       "        [-0.14930914],\n",
       "        [-0.06035858],\n",
       "        [-0.26225963],\n",
       "        [-0.41463253],\n",
       "        [-0.04493278],\n",
       "        [-0.22077082],\n",
       "        [ 0.1902039 ],\n",
       "        [ 0.12853546],\n",
       "        [-0.1990866 ],\n",
       "        [-0.21692692],\n",
       "        [ 0.01831713],\n",
       "        [-0.18350591],\n",
       "        [ 0.05854396],\n",
       "        [-0.10561994],\n",
       "        [ 0.0046723 ],\n",
       "        [ 0.21753156],\n",
       "        [-0.1052084 ],\n",
       "        [ 0.29688203]], dtype=float32),\n",
       " array([0.16237935], dtype=float32)]"
      ]
     },
     "execution_count": 4,
     "metadata": {},
     "output_type": "execute_result"
    }
   ],
   "source": [
    "model.get_weights()"
   ]
  },
  {
   "cell_type": "code",
   "execution_count": 5,
   "metadata": {},
   "outputs": [],
   "source": [
    "# Step 2: Helper Functions\n",
    "# Function to decode reviews\n",
    "def decode_review(encoded_review):\n",
    "    return ' '.join([reverse_word_index.get(i - 3, '?') for i in encoded_review])\n",
    "\n",
    "# Function to preprocess user input\n",
    "def preprocess_text(text):\n",
    "    words = text.lower().split()\n",
    "    encoded_review = [word_index.get(word, 2) + 3 for word in words]\n",
    "    padded_review = sequence.pad_sequences([encoded_review], maxlen=500)\n",
    "    return padded_review"
   ]
  },
  {
   "cell_type": "code",
   "execution_count": 6,
   "metadata": {},
   "outputs": [],
   "source": [
    "### Prediction  function\n",
    "\n",
    "def predict_sentiment(review):\n",
    "    preprocessed_input=preprocess_text(review)\n",
    "\n",
    "    prediction=model.predict(preprocessed_input)\n",
    "\n",
    "    sentiment = 'Positive' if prediction[0][0] > 0.5 else 'Negative'\n",
    "    \n",
    "    return sentiment, prediction[0][0]\n",
    "\n"
   ]
  },
  {
   "cell_type": "code",
   "execution_count": 7,
   "metadata": {},
   "outputs": [
    {
     "name": "stdout",
     "output_type": "stream",
     "text": [
      "\u001b[1m1/1\u001b[0m \u001b[32m━━━━━━━━━━━━━━━━━━━━\u001b[0m\u001b[37m\u001b[0m \u001b[1m1s\u001b[0m 654ms/step\n",
      "Review: This movie was fantastic! The acting was great and the plot was thrilling.\n",
      "Sentiment: Positive\n",
      "Prediction Score: 0.506171464920044\n"
     ]
    }
   ],
   "source": [
    "# Step 4: User Input and Prediction\n",
    "# Example review for prediction\n",
    "example_review = \"This movie was fantastic! The acting was great and the plot was thrilling.\"\n",
    "\n",
    "sentiment,score=predict_sentiment(example_review)\n",
    "\n",
    "print(f'Review: {example_review}')\n",
    "print(f'Sentiment: {sentiment}')\n",
    "print(f'Prediction Score: {score}')"
   ]
  },
  {
   "cell_type": "code",
   "execution_count": null,
   "metadata": {},
   "outputs": [],
   "source": []
  },
  {
   "cell_type": "code",
   "execution_count": null,
   "metadata": {},
   "outputs": [],
   "source": []
  },
  {
   "cell_type": "code",
   "execution_count": null,
   "metadata": {},
   "outputs": [],
   "source": []
  },
  {
   "cell_type": "code",
   "execution_count": null,
   "metadata": {},
   "outputs": [],
   "source": []
  }
 ],
 "metadata": {
  "kernelspec": {
   "display_name": ".venv",
   "language": "python",
   "name": "python3"
  },
  "language_info": {
   "codemirror_mode": {
    "name": "ipython",
    "version": 3
   },
   "file_extension": ".py",
   "mimetype": "text/x-python",
   "name": "python",
   "nbconvert_exporter": "python",
   "pygments_lexer": "ipython3",
   "version": "3.10.11"
  }
 },
 "nbformat": 4,
 "nbformat_minor": 2
}
